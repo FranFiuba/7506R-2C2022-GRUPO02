{
 "cells": [
  {
   "cell_type": "markdown",
   "metadata": {},
   "source": [
    "# Trabajo Práctico 1 : Propiedades en Venta"
   ]
  },
  {
   "cell_type": "markdown",
   "metadata": {},
   "source": [
    "### 1. Análisis Exploratorio y Preprocesamiento de Datos"
   ]
  },
  {
   "cell_type": "markdown",
   "metadata": {},
   "source": [
    "El primer paso consiste en la selección de los datos que se van a utilizar, se deben filtrar\n",
    "únicamente los anuncios de propiedades de tipo vivienda ( Casa, PH y Departamento ) ubicados\n",
    "en Capital Federal cuyo tipo de operación sea venta y su precio se encuentre en dólares (USD).\n",
    "Se debe separar un conjunto de entrenamiento (80%) y un conjunto de test (20%)."
   ]
  },
  {
   "cell_type": "code",
   "execution_count": 65,
   "metadata": {},
   "outputs": [
    {
     "name": "stdout",
     "output_type": "stream",
     "text": [
      "<class 'pandas.core.frame.DataFrame'>\n",
      "RangeIndex: 460154 entries, 0 to 460153\n",
      "Data columns (total 20 columns):\n",
      " #   Column                    Non-Null Count   Dtype  \n",
      "---  ------                    --------------   -----  \n",
      " 0   id                        460154 non-null  object \n",
      " 1   start_date                460154 non-null  object \n",
      " 2   end_date                  460154 non-null  object \n",
      " 3   created_on                460154 non-null  object \n",
      " 4   latitud                   419740 non-null  float64\n",
      " 5   longitud                  419740 non-null  float64\n",
      " 6   place_l2                  460154 non-null  object \n",
      " 7   place_l3                  437665 non-null  object \n",
      " 8   place_l4                  139020 non-null  object \n",
      " 9   place_l5                  2430 non-null    object \n",
      " 10  place_l6                  0 non-null       float64\n",
      " 11  operation                 460154 non-null  object \n",
      " 12  property_type             460154 non-null  object \n",
      " 13  property_rooms            368498 non-null  float64\n",
      " 14  property_bedrooms         344113 non-null  float64\n",
      " 15  property_surface_total    397813 non-null  float64\n",
      " 16  property_surface_covered  427916 non-null  float64\n",
      " 17  property_price            442153 non-null  float64\n",
      " 18  property_currency         441590 non-null  object \n",
      " 19  property_title            460154 non-null  object \n",
      "dtypes: float64(8), object(12)\n",
      "memory usage: 70.2+ MB\n"
     ]
    }
   ],
   "source": [
    "import pandas as pd\n",
    "\n",
    "# Obtengo el data frame desde el archivo csv\n",
    "properati_df = pd.read_csv(\"Datasets/properati_argentina_2021.csv\")\n",
    "\n",
    "# Obtengo algunas estadisticas basicas\n",
    "properati_df.info()"
   ]
  },
  {
   "cell_type": "code",
   "execution_count": 68,
   "metadata": {},
   "outputs": [],
   "source": [
    "# Filtro para seleccionar las propiedades que son del tipo Casa, PH o Departamento\n",
    "propery_type_filter = properati_df.property_type.isin(['Casa', 'PH', 'Departamento'])\n",
    "\n",
    "# Filtro para seleccionar las propiedades localizadas en Capital federal\n",
    "place_is_caba = properati_df.place_l2 == 'Capital Federal'\n",
    "\n",
    "# Filtro para seleccionar las propiedades que tienen por operacion la Venta\n",
    "operation_is_venta = properati_df.operation == 'Venta'\n",
    "\n",
    "# Filtro para seleccionar las propiedades en dolares\n",
    "currency_is_usd = properati_df.property_currency == 'USD'\n",
    "\n",
    "# Aplico los filtros sobre el dataset original\n",
    "properati_df = properati_df.loc[currency_is_usd & operation_is_venta & place_is_caba & propery_type_filter]"
   ]
  },
  {
   "cell_type": "code",
   "execution_count": 69,
   "metadata": {},
   "outputs": [],
   "source": [
    "# Filtro las columnas que tienen todos sus valores null: \"place_l5\" y \"place_l6\" y las que son unicas: \"operation\", \"place_l2\" y property_currency\n",
    "properati_df = properati_df.loc[:, ['id', 'start_date', 'end_date', 'created_on', 'latitud', 'longitud', 'place_l3', 'place_l4','property_type', 'property_rooms', 'property_bedrooms','property_surface_total', 'property_surface_covered', 'property_price', 'property_title']]\n"
   ]
  },
  {
   "cell_type": "code",
   "execution_count": 67,
   "metadata": {},
   "outputs": [],
   "source": [
    "# Filtro las filas que tienen place_l3 null que implica que no se sabe de que barrio son\n",
    "properati_df = properati_df.loc[properati_df.place_l3.notna()]"
   ]
  }
 ],
 "metadata": {
  "kernelspec": {
   "display_name": "Python 3 (ipykernel)",
   "language": "python",
   "name": "python3"
  },
  "language_info": {
   "codemirror_mode": {
    "name": "ipython",
    "version": 3
   },
   "file_extension": ".py",
   "mimetype": "text/x-python",
   "name": "python",
   "nbconvert_exporter": "python",
   "pygments_lexer": "ipython3",
   "version": "3.10.6"
  },
  "vscode": {
   "interpreter": {
    "hash": "b0fa6594d8f4cbf19f97940f81e996739fb7646882a419484c72d19e05852a7e"
   }
  }
 },
 "nbformat": 4,
 "nbformat_minor": 2
}
